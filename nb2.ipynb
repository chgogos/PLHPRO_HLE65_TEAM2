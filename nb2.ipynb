{
 "cells": [
  {
   "cell_type": "markdown",
   "metadata": {},
   "source": [
    "# Παραδείγματα κώδικα με ανάγνωση αρχείων pgn"
   ]
  },
  {
   "cell_type": "code",
   "execution_count": 1,
   "metadata": {},
   "outputs": [],
   "source": [
    "import re"
   ]
  },
  {
   "cell_type": "code",
   "execution_count": 2,
   "metadata": {},
   "outputs": [
    {
     "data": {
      "text/plain": [
       "'[Event \"Wijk aan Zee I\"]\\n[Site \"Wijk aan Zee I\"]\\n[Date \"2003.??.??\"]\\n[Round \"1\"]\\n[White \"Ponomariov\"]\\n[Black \"Bareev\"]\\n[Result \"0-1\"]\\n[EventDate \"2003.??.??\"]\\n[PlyCount \"118\"]\\n\\n1. e4 c6 2. d4 d5 3. e5 Bf5 4. h4 h5 5. c4 e6 6. Nc3 Be7 7. g3 Nh6 8. Bg5\\ndxc4 9. Bxe7 Qxe7 10. Qxh5 Qb4 11. O-O-O Bg4 12. Qg5 Bxd1 13. Qxg7 Qf8 14.\\nQxf8+ Kxf8 15. Nxd1 c5 16. dxc5 Nd7 17. c6 bxc6 18. f4 Rg8 19. Ne2 Rd8 20.\\nNe3 Nb6 21. Bh3 Rd3 22. Nc2 c5 23. Rf1 Nd5 24. f5 exf5 25. Bxf5 Re3 26.\\nNxe3 Nxe3 27. Bh3 Nxf1 28. Bxf1 Nf5 29. Nc3 Ne3 30. Be2 Rxg3 31. Kd2 Ng4\\n32. Ne4 Rg2 33. e6 fxe6 34. h5 Ke7 35. Nxc5 Nf6 36. Ke3 Rg5 37. Kd4 Nxh5\\n38. Kxc4 Nf4 39. Bf3 Rg3 40. Be4 Nh5 41. a4 Nf6 42. Ba8 Rg4+ 43. Kb5 Ne8\\n44. Ka5 Rc4 45. b4 Nd6 46. Ka6 Rxb4 47. Kxa7 e5 48. Ka6 e4 49. Ka5 Rc4 50.\\nKb6 e3 51. Bf3 Rf4 52. Bh5 Rh4 53. Bf3 Nc4+ 54. Kb5 Ne5 55. Be2 Rh2 56. Nd3\\nNxd3 57. Bxd3 e2 58. Bxe2 Rxe2 59. a5 Kd7 0-1\\n\\n'"
      ]
     },
     "execution_count": 2,
     "metadata": {},
     "output_type": "execute_result"
    }
   ],
   "source": [
    "fn = \"games/2003.pgn\"\n",
    "\n",
    "with open(fn, \"r\") as fp:\n",
    "    txt = fp.read()\n",
    "\n",
    "games = [\"[Event \" + x for x in re.split(r\"\\[Event\\s\", txt) if x !='']\n",
    "games[0]"
   ]
  },
  {
   "cell_type": "code",
   "execution_count": 3,
   "metadata": {},
   "outputs": [
    {
     "name": "stdout",
     "output_type": "stream",
     "text": [
      "[Event \"Wijk aan Zee I\"] [Site \"Wijk aan Zee I\"] [Date \"2003.??.??\"] [Round \"1\"] [White \"Ponomariov\"] [Black \"Bareev\"] [Result \"0-1\"] [EventDate \"2003.??.??\"] [PlyCount \"118\"]  1. e4 c6 2. d4 d5 3. e5 Bf5 4. h4 h5 5. c4 e6 6. Nc3 Be7 7. g3 Nh6 8. Bg5 dxc4 9. Bxe7 Qxe7 10. Qxh5 Qb4 11. O-O-O Bg4 12. Qg5 Bxd1 13. Qxg7 Qf8 14. Qxf8+ Kxf8 15. Nxd1 c5 16. dxc5 Nd7 17. c6 bxc6 18. f4 Rg8 19. Ne2 Rd8 20. Ne3 Nb6 21. Bh3 Rd3 22. Nc2 c5 23. Rf1 Nd5 24. f5 exf5 25. Bxf5 Re3 26. Nxe3 Nxe3 27. Bh3 Nxf1 28. Bxf1 Nf5 29. Nc3 Ne3 30. Be2 Rxg3 31. Kd2 Ng4 32. Ne4 Rg2 33. e6 fxe6 34. h5 Ke7 35. Nxc5 Nf6 36. Ke3 Rg5 37. Kd4 Nxh5 38. Kxc4 Nf4 39. Bf3 Rg3 40. Be4 Nh5 41. a4 Nf6 42. Ba8 Rg4+ 43. Kb5 Ne8 44. Ka5 Rc4 45. b4 Nd6 46. Ka6 Rxb4 47. Kxa7 e5 48. Ka6 e4 49. Ka5 Rc4 50. Kb6 e3 51. Bf3 Rf4 52. Bh5 Rh4 53. Bf3 Nc4+ 54. Kb5 Ne5 55. Be2 Rh2 56. Nd3 Nxd3 57. Bxd3 e2 58. Bxe2 Rxe2 59. a5 Kd7 0-1\n"
     ]
    }
   ],
   "source": [
    "game_txt =  games[0]\n",
    "game_txt = game_txt.replace(\"\\n\", \" \").strip()\n",
    "print(game_txt)"
   ]
  },
  {
   "cell_type": "code",
   "execution_count": 4,
   "metadata": {},
   "outputs": [
    {
     "name": "stdout",
     "output_type": "stream",
     "text": [
      "\"Wijk aan Zee I\"\n",
      "\"Ponomariov\"\n",
      "\"Bareev\"\n",
      "\"0-1\"\n",
      "[(1, 'e4', 'c6'), (2, 'd4', 'd5'), (3, 'e5', 'Bf5'), (4, 'h4', 'h5'), (5, 'c4', 'e6'), (6, 'Nc3', 'Be7'), (7, 'g3', 'Nh6'), (8, 'Bg5', 'dxc4'), (9, 'Bxe7', 'Qxe7'), (10, 'Qxh5', 'Qb4'), (11, 'O-O-O', 'Bg4'), (12, 'Qg5', 'Bxd1'), (13, 'Qxg7', 'Qf8'), (14, 'Qxf8+', 'Kxf8'), (15, 'Nxd1', 'c5'), (16, 'dxc5', 'Nd7'), (17, 'c6', 'bxc6'), (18, 'f4', 'Rg8'), (19, 'Ne2', 'Rd8'), (20, 'Ne3', 'Nb6'), (21, 'Bh3', 'Rd3'), (22, 'Nc2', 'c5'), (23, 'Rf1', 'Nd5'), (24, 'f5', 'exf5'), (25, 'Bxf5', 'Re3'), (26, 'Nxe3', 'Nxe3'), (27, 'Bh3', 'Nxf1'), (28, 'Bxf1', 'Nf5'), (29, 'Nc3', 'Ne3'), (30, 'Be2', 'Rxg3'), (31, 'Kd2', 'Ng4'), (32, 'Ne4', 'Rg2'), (33, 'e6', 'fxe6'), (34, 'h5', 'Ke7'), (35, 'Nxc5', 'Nf6'), (36, 'Ke3', 'Rg5'), (37, 'Kd4', 'Nxh5'), (38, 'Kxc4', 'Nf4'), (39, 'Bf3', 'Rg3'), (40, 'Be4', 'Nh5'), (41, 'a4', 'Nf6'), (42, 'Ba8', 'Rg4+'), (43, 'Kb5', 'Ne8'), (44, 'Ka5', 'Rc4'), (45, 'b4', 'Nd6'), (46, 'Ka6', 'Rxb4'), (47, 'Kxa7', 'e5'), (48, 'Ka6', 'e4'), (49, 'Ka5', 'Rc4'), (50, 'Kb6', 'e3'), (51, 'Bf3', 'Rf4'), (52, 'Bh5', 'Rh4'), (53, 'Bf3', 'Nc4+'), (54, 'Kb5', 'Ne5'), (55, 'Be2', 'Rh2'), (56, 'Nd3', 'Nxd3'), (57, 'Bxd3', 'e2'), (58, 'Bxe2', 'Rxe2'), (59, 'a5', 'Kd7')]\n"
     ]
    }
   ],
   "source": [
    "event = re.search(r\"\\[Event\\s+(.*?)\\]\", game_txt).group(1)\n",
    "white = re.search(r\"\\[White\\s+(.*?)\\]\", game_txt).group(1)\n",
    "black = re.search(r\"\\[Black\\s+(.*?)\\]\", game_txt).group(1)\n",
    "result = re.search(r\"\\[Result\\s+(.*?)\\]\", game_txt).group(1)\n",
    "moves_txt= re.search(r\"\\]\\s*(1.*)$\", game_txt).group(1)\n",
    "moves = [] \n",
    "for m, w, b in re.findall(r'(\\d+)\\.\\s(\\S+)\\s+(\\S+)', moves_txt):\n",
    "    moves.append((int(m),w,b)) # οι κινήσεις ως τριάδες (αριθμός κίνησης, κίνηση λευκών, κίνηση μαύρων)\n",
    "            \n",
    "print(event)\n",
    "print(white)\n",
    "print(black)\n",
    "print(result)\n",
    "print(moves)"
   ]
  },
  {
   "cell_type": "code",
   "execution_count": null,
   "metadata": {},
   "outputs": [],
   "source": []
  }
 ],
 "metadata": {
  "interpreter": {
   "hash": "cd3424be62dcdb3e14945232be50c17d1d7facc65b621ee31e4af051bad36419"
  },
  "kernelspec": {
   "display_name": "Python 3.8.8 ('py388')",
   "language": "python",
   "name": "python3"
  },
  "language_info": {
   "codemirror_mode": {
    "name": "ipython",
    "version": 3
   },
   "file_extension": ".py",
   "mimetype": "text/x-python",
   "name": "python",
   "nbconvert_exporter": "python",
   "pygments_lexer": "ipython3",
   "version": "3.8.8"
  },
  "orig_nbformat": 4
 },
 "nbformat": 4,
 "nbformat_minor": 2
}
